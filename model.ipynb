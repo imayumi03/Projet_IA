{
 "cells": [
  {
   "cell_type": "code",
   "execution_count": null,
   "metadata": {},
   "outputs": [
    {
     "name": "stdout",
     "output_type": "stream",
     "text": [
      "Collecting openpyxl\n",
      "  Downloading openpyxl-3.1.5-py2.py3-none-any.whl.metadata (2.5 kB)\n",
      "Collecting et-xmlfile (from openpyxl)\n",
      "  Downloading et_xmlfile-2.0.0-py3-none-any.whl.metadata (2.7 kB)\n",
      "Downloading openpyxl-3.1.5-py2.py3-none-any.whl (250 kB)\n",
      "Downloading et_xmlfile-2.0.0-py3-none-any.whl (18 kB)\n",
      "Installing collected packages: et-xmlfile, openpyxl\n",
      "Successfully installed et-xmlfile-2.0.0 openpyxl-3.1.5\n"
     ]
    }
   ],
   "source": [
    "!pip install openpyxl"
   ]
  },
  {
   "cell_type": "code",
   "execution_count": 41,
   "metadata": {},
   "outputs": [
    {
     "name": "stdout",
     "output_type": "stream",
     "text": [
      "   Num                 Timestamp  Current_J0  Temperature_T0  Current_J1  \\\n",
      "0    1  2022-10-26T08:17:21.847Z    0.109628          27.875   -2.024669   \n",
      "1    2  2022-10-26T08:17:22.852Z    0.595605          27.875   -2.278456   \n",
      "2    3  2022-10-26T08:17:23.857Z   -0.229474          27.875   -2.800408   \n",
      "3    4  2022-10-26T08:17:24.863Z    0.065053          27.875   -3.687768   \n",
      "4    5  2022-10-26T08:17:25.877Z    0.884140          27.875   -2.938830   \n",
      "\n",
      "   Temperature_J1  Current_J2  Temperature_J2  Current_J3  Temperature_J3  \\\n",
      "0         29.3750   -1.531442         29.3750   -0.998570         32.1250   \n",
      "1         29.3125   -0.866556         29.4375   -0.206097         32.1875   \n",
      "2         29.3125   -2.304336         29.4375   -0.351499         32.1250   \n",
      "3         29.3125   -1.217652         29.4375   -1.209115         32.1250   \n",
      "4         29.3750   -1.794076         29.4375   -2.356471         32.1875   \n",
      "\n",
      "   Current_J4  Temperature_J4  Current_J5  Temperature_J5      Speed_J0  \\\n",
      "0   -0.062540         32.2500   -0.152622         32.0000  2.955651e-01   \n",
      "1   -1.062762         32.2500   -0.260764         32.0000 -7.391485e-30   \n",
      "2   -0.668869         32.3125    0.039071         32.0625  1.369386e-01   \n",
      "3   -0.819755         32.2500    0.153903         32.0000 -9.030032e-02   \n",
      "4   -0.966427         32.3125    0.178998         32.0000  1.268088e-01   \n",
      "\n",
      "   Speed_J1  Speed_J2  Speed_J3  Speed_J4  Speed_J5  Tool_current  cycle   \\\n",
      "0 -0.000490  0.001310 -0.132836 -0.007479 -0.152962      0.082732       1   \n",
      "1 -0.000304  0.002185  0.001668 -0.000767  0.000417      0.505895       1   \n",
      "2  0.007795 -2.535874  0.379867  0.000455 -0.496856      0.079420       1   \n",
      "3 -0.004911 -0.009096 -0.384196  0.018411  0.425559      0.083325       1   \n",
      "4  0.005567  0.001138 -0.353284  0.014994  0.180989      0.086379       1   \n",
      "\n",
      "   Robot_ProtectiveStop  grip_lost  \n",
      "0                   0.0      False  \n",
      "1                   0.0      False  \n",
      "2                   0.0      False  \n",
      "3                   0.0      False  \n",
      "4                   0.0      False  \n"
     ]
    },
    {
     "data": {
      "text/plain": [
       "(7409, 24)"
      ]
     },
     "execution_count": 41,
     "metadata": {},
     "output_type": "execute_result"
    }
   ],
   "source": [
    "import pandas as pd\n",
    "pd.set_option('display.max_columns', None) #Pour voir toutes les colonnes\n",
    "df = pd.read_excel(\"dataset_02052023.xlsx\", engine='openpyxl')\n",
    "print(df.head())\n",
    "df.shape"
   ]
  },
  {
   "cell_type": "markdown",
   "metadata": {},
   "source": [
    "# Analyse et prétraitement des données"
   ]
  },
  {
   "cell_type": "code",
   "execution_count": 42,
   "metadata": {},
   "outputs": [
    {
     "name": "stdout",
     "output_type": "stream",
     "text": [
      "<class 'pandas.core.frame.DataFrame'>\n",
      "RangeIndex: 7409 entries, 0 to 7408\n",
      "Data columns (total 23 columns):\n",
      " #   Column                Non-Null Count  Dtype  \n",
      "---  ------                --------------  -----  \n",
      " 0   Timestamp             7409 non-null   object \n",
      " 1   Current_J0            7363 non-null   float64\n",
      " 2   Temperature_T0        7355 non-null   float64\n",
      " 3   Current_J1            7355 non-null   float64\n",
      " 4   Temperature_J1        7355 non-null   float64\n",
      " 5   Current_J2            7355 non-null   float64\n",
      " 6   Temperature_J2        7355 non-null   float64\n",
      " 7   Current_J3            7355 non-null   float64\n",
      " 8   Temperature_J3        7355 non-null   float64\n",
      " 9   Current_J4            7355 non-null   float64\n",
      " 10  Temperature_J4        7355 non-null   float64\n",
      " 11  Current_J5            7355 non-null   float64\n",
      " 12  Temperature_J5        7355 non-null   float64\n",
      " 13  Speed_J0              7355 non-null   float64\n",
      " 14  Speed_J1              7355 non-null   float64\n",
      " 15  Speed_J2              7355 non-null   float64\n",
      " 16  Speed_J3              7355 non-null   float64\n",
      " 17  Speed_J4              7355 non-null   float64\n",
      " 18  Speed_J5              7355 non-null   float64\n",
      " 19  Tool_current          7355 non-null   float64\n",
      " 20  cycle                 7409 non-null   int64  \n",
      " 21  Robot_ProtectiveStop  7355 non-null   float64\n",
      " 22  grip_lost             7409 non-null   bool   \n",
      "dtypes: bool(1), float64(20), int64(1), object(1)\n",
      "memory usage: 1.3+ MB\n",
      "None\n"
     ]
    }
   ],
   "source": [
    "df = df.drop(columns=['Num'])\n",
    "print(df.info())"
   ]
  },
  {
   "cell_type": "code",
   "execution_count": 43,
   "metadata": {},
   "outputs": [
    {
     "name": "stdout",
     "output_type": "stream",
     "text": [
      "        Current_J0  Temperature_T0   Current_J1  Temperature_J1   Current_J2  \\\n",
      "count  7363.000000     7355.000000  7355.000000     7355.000000  7355.000000   \n",
      "mean     -0.048934       34.906781    -2.297936       37.659636    -1.199381   \n",
      "std       0.829395        2.762057     0.800450        3.247315     0.609984   \n",
      "min      -6.247756       27.812500    -5.808734       29.312500    -4.171966   \n",
      "25%      -0.195026       33.000000    -2.664919       35.375000    -1.552803   \n",
      "50%      -0.080830       36.500000    -2.236342       39.687500    -1.077137   \n",
      "75%       0.095959       37.062500    -1.778334       40.125000    -0.838721   \n",
      "max       6.806938       37.250000     1.083596       40.500000     2.464940   \n",
      "\n",
      "       Temperature_J2   Current_J3  Temperature_J3   Current_J4  \\\n",
      "count     7355.000000  7355.000000     7355.000000  7355.000000   \n",
      "mean        38.064064    -0.605312       40.936999    -0.022968   \n",
      "std          3.311948     0.514937        3.182399     0.630789   \n",
      "min         29.375000    -3.333102       32.125000    -4.738406   \n",
      "25%         35.750000    -0.830933       38.937500    -0.125809   \n",
      "50%         40.187500    -0.571190       43.062500    -0.012325   \n",
      "75%         40.437500    -0.388398       43.125000     0.086098   \n",
      "max         40.937500     2.270268       43.437500     4.089389   \n",
      "\n",
      "       Temperature_J4   Current_J5  Temperature_J5     Speed_J0     Speed_J1  \\\n",
      "count     7355.000000  7355.000000     7355.000000  7355.000000  7355.000000   \n",
      "mean        42.605167     0.000904       41.891094     0.001671     0.000061   \n",
      "std          3.677670     0.129141        3.680003     0.148826     0.049370   \n",
      "min         32.250000    -0.474556       32.000000    -0.656331    -0.330833   \n",
      "25%         40.375000    -0.094875       39.500000    -0.000483    -0.000659   \n",
      "50%         45.062500     0.014496       44.375000     0.000000     0.000000   \n",
      "75%         45.187500     0.077995       44.500000     0.002115     0.000540   \n",
      "max         45.375000     0.392547       44.937500     0.791929     0.615526   \n",
      "\n",
      "          Speed_J2     Speed_J3     Speed_J4     Speed_J5  Tool_current  \\\n",
      "count  7355.000000  7355.000000  7355.000000  7355.000000   7355.000000   \n",
      "mean      0.003791    -0.004610    -0.000810     0.002880      0.109527   \n",
      "std       0.729422     0.359999     0.038436     0.313953      0.078832   \n",
      "min      -2.733091    -1.271460    -0.226233    -1.629721      0.020180   \n",
      "25%      -0.004100    -0.005365    -0.000120    -0.000803      0.082387   \n",
      "50%       0.000000     0.000000     0.000000     0.000000      0.085192   \n",
      "75%       0.000205     0.009912     0.000066     0.012924      0.089518   \n",
      "max       2.679848     1.363093     0.193914     1.378015      0.602054   \n",
      "\n",
      "            cycle   Robot_ProtectiveStop  \n",
      "count  7409.000000           7355.000000  \n",
      "mean    141.113241              0.037797  \n",
      "std      80.542340              0.190719  \n",
      "min       1.000000              0.000000  \n",
      "25%      68.000000              0.000000  \n",
      "50%     154.000000              0.000000  \n",
      "75%     218.000000              0.000000  \n",
      "max     264.000000              1.000000  \n"
     ]
    }
   ],
   "source": [
    "print(df.describe())"
   ]
  },
  {
   "cell_type": "code",
   "execution_count": 44,
   "metadata": {},
   "outputs": [
    {
     "name": "stdout",
     "output_type": "stream",
     "text": [
      "Colonnes avec valeurs manquantes :\n",
      "\n",
      "Current_J0              46\n",
      "Temperature_T0          54\n",
      "Current_J1              54\n",
      "Temperature_J1          54\n",
      "Current_J2              54\n",
      "Temperature_J2          54\n",
      "Current_J3              54\n",
      "Temperature_J3          54\n",
      "Current_J4              54\n",
      "Temperature_J4          54\n",
      "Current_J5              54\n",
      "Temperature_J5          54\n",
      "Speed_J0                54\n",
      "Speed_J1                54\n",
      "Speed_J2                54\n",
      "Speed_J3                54\n",
      "Speed_J4                54\n",
      "Speed_J5                54\n",
      "Tool_current            54\n",
      "Robot_ProtectiveStop    54\n",
      "dtype: int64\n"
     ]
    }
   ],
   "source": [
    "missing_counts = df.isnull().sum()\n",
    "missing_columns = missing_counts[missing_counts > 0]\n",
    "print(\"Colonnes avec valeurs manquantes :\\n\")\n",
    "print(missing_columns)"
   ]
  },
  {
   "cell_type": "code",
   "execution_count": 47,
   "metadata": {},
   "outputs": [
    {
     "name": "stdout",
     "output_type": "stream",
     "text": [
      "Lignes restantes après suppression : 7355\n"
     ]
    }
   ],
   "source": [
    "df= df.dropna()\n",
    "print(f\"Lignes restantes après suppression : {len(df)}\")"
   ]
  },
  {
   "cell_type": "code",
   "execution_count": 52,
   "metadata": {},
   "outputs": [
    {
     "name": "stdout",
     "output_type": "stream",
     "text": [
      "Ecart type de toutes les colonnes :\n",
      "\n",
      "Current_J0               0.829123\n",
      "Temperature_T0           2.762057\n",
      "Current_J1               0.800450\n",
      "Temperature_J1           3.247315\n",
      "Current_J2               0.609984\n",
      "Temperature_J2           3.311948\n",
      "Current_J3               0.514937\n",
      "Temperature_J3           3.182399\n",
      "Current_J4               0.630789\n",
      "Temperature_J4           3.677670\n",
      "Current_J5               0.129141\n",
      "Temperature_J5           3.680003\n",
      "Speed_J0                 0.148826\n",
      "Speed_J1                 0.049370\n",
      "Speed_J2                 0.729422\n",
      "Speed_J3                 0.359999\n",
      "Speed_J4                 0.038436\n",
      "Speed_J5                 0.313953\n",
      "Tool_current             0.078832\n",
      "cycle                   80.512697\n",
      "Robot_ProtectiveStop     0.190719\n",
      "grip_lost                0.178750\n",
      "dtype: float64\n"
     ]
    }
   ],
   "source": [
    "std = df.drop(columns=['Timestamp']).std()\n",
    "\n",
    "print(\"Ecart type de toutes les colonnes :\\n\")\n",
    "print(std)"
   ]
  },
  {
   "cell_type": "code",
   "execution_count": 55,
   "metadata": {},
   "outputs": [
    {
     "name": "stdout",
     "output_type": "stream",
     "text": [
      "Colonnes conservées après suppression des faibles écarts-types (avec Timestamp) :\n",
      "\n",
      "Index(['Current_J0', 'Temperature_T0', 'Current_J1', 'Temperature_J1',\n",
      "       'Current_J2', 'Temperature_J2', 'Current_J3', 'Temperature_J3',\n",
      "       'Current_J4', 'Temperature_J4', 'Current_J5', 'Temperature_J5',\n",
      "       'Speed_J0', 'Speed_J2', 'Speed_J3', 'Speed_J5', 'cycle ',\n",
      "       'Robot_ProtectiveStop', 'grip_lost', 'Timestamp'],\n",
      "      dtype='object')\n"
     ]
    },
    {
     "name": "stderr",
     "output_type": "stream",
     "text": [
      "C:\\Users\\Lenovo Gaming\\AppData\\Local\\Temp\\ipykernel_2128\\2759060568.py:4: SettingWithCopyWarning: \n",
      "A value is trying to be set on a copy of a slice from a DataFrame.\n",
      "Try using .loc[row_indexer,col_indexer] = value instead\n",
      "\n",
      "See the caveats in the documentation: https://pandas.pydata.org/pandas-docs/stable/user_guide/indexing.html#returning-a-view-versus-a-copy\n",
      "  df_filtered['Timestamp'] = df['Timestamp']\n"
     ]
    }
   ],
   "source": [
    "#Suppression des colonnes à faible écart type (< 0.1)\n",
    "columns_to_keep = std[std >= 0.1].index\n",
    "df_filtered = df[columns_to_keep]\n",
    "df_filtered['Timestamp'] = df['Timestamp']\n",
    "\n",
    "print(\"Colonnes conservées après suppression des faibles écarts-types (avec Timestamp) :\\n\")\n",
    "print(df_filtered.columns)"
   ]
  },
  {
   "cell_type": "code",
   "execution_count": 56,
   "metadata": {},
   "outputs": [
    {
     "name": "stdout",
     "output_type": "stream",
     "text": [
      "   Current_J0  Temperature_T0  Current_J1  Temperature_J1  Current_J2  \\\n",
      "0    0.109628          27.875   -2.024669         29.3750   -1.531442   \n",
      "1    0.595605          27.875   -2.278456         29.3125   -0.866556   \n",
      "2   -0.229474          27.875   -2.800408         29.3125   -2.304336   \n",
      "3    0.065053          27.875   -3.687768         29.3125   -1.217652   \n",
      "4    0.884140          27.875   -2.938830         29.3750   -1.794076   \n",
      "\n",
      "   Temperature_J2  Current_J3  Temperature_J3  Current_J4  Temperature_J4  \\\n",
      "0         29.3750   -0.998570         32.1250   -0.062540         32.2500   \n",
      "1         29.4375   -0.206097         32.1875   -1.062762         32.2500   \n",
      "2         29.4375   -0.351499         32.1250   -0.668869         32.3125   \n",
      "3         29.4375   -1.209115         32.1250   -0.819755         32.2500   \n",
      "4         29.4375   -2.356471         32.1875   -0.966427         32.3125   \n",
      "\n",
      "   Current_J5  Temperature_J5      Speed_J0  Speed_J2  Speed_J3  Speed_J5  \\\n",
      "0   -0.152622         32.0000  2.955651e-01  0.001310 -0.132836 -0.152962   \n",
      "1   -0.260764         32.0000 -7.391485e-30  0.002185  0.001668  0.000417   \n",
      "2    0.039071         32.0625  1.369386e-01 -2.535874  0.379867 -0.496856   \n",
      "3    0.153903         32.0000 -9.030032e-02 -0.009096 -0.384196  0.425559   \n",
      "4    0.178998         32.0000  1.268088e-01  0.001138 -0.353284  0.180989   \n",
      "\n",
      "   cycle   Robot_ProtectiveStop  grip_lost                 Timestamp  \n",
      "0       1                   0.0      False  2022-10-26T08:17:21.847Z  \n",
      "1       1                   0.0      False  2022-10-26T08:17:22.852Z  \n",
      "2       1                   0.0      False  2022-10-26T08:17:23.857Z  \n",
      "3       1                   0.0      False  2022-10-26T08:17:24.863Z  \n",
      "4       1                   0.0      False  2022-10-26T08:17:25.877Z  \n"
     ]
    }
   ],
   "source": [
    "print(df_filtered.head())"
   ]
  }
 ],
 "metadata": {
  "kernelspec": {
   "display_name": "deep_hedging",
   "language": "python",
   "name": "python3"
  },
  "language_info": {
   "codemirror_mode": {
    "name": "ipython",
    "version": 3
   },
   "file_extension": ".py",
   "mimetype": "text/x-python",
   "name": "python",
   "nbconvert_exporter": "python",
   "pygments_lexer": "ipython3",
   "version": "3.9.21"
  }
 },
 "nbformat": 4,
 "nbformat_minor": 2
}
