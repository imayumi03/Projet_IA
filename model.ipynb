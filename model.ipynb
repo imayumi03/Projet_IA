{
 "cells": [
  {
   "cell_type": "code",
   "execution_count": null,
   "metadata": {},
   "outputs": [
    {
     "name": "stdout",
     "output_type": "stream",
     "text": [
      "Collecting openpyxl\n",
      "  Downloading openpyxl-3.1.5-py2.py3-none-any.whl.metadata (2.5 kB)\n",
      "Collecting et-xmlfile (from openpyxl)\n",
      "  Downloading et_xmlfile-2.0.0-py3-none-any.whl.metadata (2.7 kB)\n",
      "Downloading openpyxl-3.1.5-py2.py3-none-any.whl (250 kB)\n",
      "Downloading et_xmlfile-2.0.0-py3-none-any.whl (18 kB)\n",
      "Installing collected packages: et-xmlfile, openpyxl\n",
      "Successfully installed et-xmlfile-2.0.0 openpyxl-3.1.5\n"
     ]
    }
   ],
   "source": [
    "!pip install openpyxl"
   ]
  },
  {
   "cell_type": "code",
   "execution_count": 6,
   "metadata": {},
   "outputs": [
    {
     "name": "stdout",
     "output_type": "stream",
     "text": [
      "   Num                 Timestamp  Current_J0  Temperature_T0  Current_J1  \\\n",
      "0    1  2022-10-26T08:17:21.847Z    0.109628          27.875   -2.024669   \n",
      "1    2  2022-10-26T08:17:22.852Z    0.595605          27.875   -2.278456   \n",
      "2    3  2022-10-26T08:17:23.857Z   -0.229474          27.875   -2.800408   \n",
      "3    4  2022-10-26T08:17:24.863Z    0.065053          27.875   -3.687768   \n",
      "4    5  2022-10-26T08:17:25.877Z    0.884140          27.875   -2.938830   \n",
      "\n",
      "   Temperature_J1  Current_J2  Temperature_J2  Current_J3  Temperature_J3  \\\n",
      "0         29.3750   -1.531442         29.3750   -0.998570         32.1250   \n",
      "1         29.3125   -0.866556         29.4375   -0.206097         32.1875   \n",
      "2         29.3125   -2.304336         29.4375   -0.351499         32.1250   \n",
      "3         29.3125   -1.217652         29.4375   -1.209115         32.1250   \n",
      "4         29.3750   -1.794076         29.4375   -2.356471         32.1875   \n",
      "\n",
      "   ...      Speed_J0  Speed_J1  Speed_J2  Speed_J3  Speed_J4  Speed_J5  \\\n",
      "0  ...  2.955651e-01 -0.000490  0.001310 -0.132836 -0.007479 -0.152962   \n",
      "1  ... -7.391485e-30 -0.000304  0.002185  0.001668 -0.000767  0.000417   \n",
      "2  ...  1.369386e-01  0.007795 -2.535874  0.379867  0.000455 -0.496856   \n",
      "3  ... -9.030032e-02 -0.004911 -0.009096 -0.384196  0.018411  0.425559   \n",
      "4  ...  1.268088e-01  0.005567  0.001138 -0.353284  0.014994  0.180989   \n",
      "\n",
      "   Tool_current  cycle   Robot_ProtectiveStop  grip_lost  \n",
      "0      0.082732       1                   0.0      False  \n",
      "1      0.505895       1                   0.0      False  \n",
      "2      0.079420       1                   0.0      False  \n",
      "3      0.083325       1                   0.0      False  \n",
      "4      0.086379       1                   0.0      False  \n",
      "\n",
      "[5 rows x 24 columns]\n"
     ]
    },
    {
     "data": {
      "text/plain": [
       "(7409, 24)"
      ]
     },
     "execution_count": 6,
     "metadata": {},
     "output_type": "execute_result"
    }
   ],
   "source": [
    "import pandas as pd\n",
    "df = pd.read_excel(\"dataset_02052023.xlsx\", engine='openpyxl')\n",
    "print(df.head())\n",
    "df.shape"
   ]
  },
  {
   "cell_type": "code",
   "execution_count": 5,
   "metadata": {},
   "outputs": [
    {
     "name": "stdout",
     "output_type": "stream",
     "text": [
      "<class 'pandas.core.frame.DataFrame'>\n",
      "RangeIndex: 7409 entries, 0 to 7408\n",
      "Data columns (total 24 columns):\n",
      " #   Column                Non-Null Count  Dtype  \n",
      "---  ------                --------------  -----  \n",
      " 0   Num                   7409 non-null   int64  \n",
      " 1   Timestamp             7409 non-null   object \n",
      " 2   Current_J0            7363 non-null   float64\n",
      " 3   Temperature_T0        7355 non-null   float64\n",
      " 4   Current_J1            7355 non-null   float64\n",
      " 5   Temperature_J1        7355 non-null   float64\n",
      " 6   Current_J2            7355 non-null   float64\n",
      " 7   Temperature_J2        7355 non-null   float64\n",
      " 8   Current_J3            7355 non-null   float64\n",
      " 9   Temperature_J3        7355 non-null   float64\n",
      " 10  Current_J4            7355 non-null   float64\n",
      " 11  Temperature_J4        7355 non-null   float64\n",
      " 12  Current_J5            7355 non-null   float64\n",
      " 13  Temperature_J5        7355 non-null   float64\n",
      " 14  Speed_J0              7355 non-null   float64\n",
      " 15  Speed_J1              7355 non-null   float64\n",
      " 16  Speed_J2              7355 non-null   float64\n",
      " 17  Speed_J3              7355 non-null   float64\n",
      " 18  Speed_J4              7355 non-null   float64\n",
      " 19  Speed_J5              7355 non-null   float64\n",
      " 20  Tool_current          7355 non-null   float64\n",
      " 21  cycle                 7409 non-null   int64  \n",
      " 22  Robot_ProtectiveStop  7355 non-null   float64\n",
      " 23  grip_lost             7409 non-null   bool   \n",
      "dtypes: bool(1), float64(20), int64(2), object(1)\n",
      "memory usage: 1.3+ MB\n",
      "None\n"
     ]
    }
   ],
   "source": [
    "print(df.info())"
   ]
  },
  {
   "cell_type": "code",
   "execution_count": 7,
   "metadata": {},
   "outputs": [
    {
     "name": "stdout",
     "output_type": "stream",
     "text": [
      "               Num   Current_J0  Temperature_T0   Current_J1  Temperature_J1  \\\n",
      "count  7409.000000  7363.000000     7355.000000  7355.000000     7355.000000   \n",
      "mean   3705.000000    -0.048934       34.906781    -2.297936       37.659636   \n",
      "std    2138.938405     0.829395        2.762057     0.800450        3.247315   \n",
      "min       1.000000    -6.247756       27.812500    -5.808734       29.312500   \n",
      "25%    1853.000000    -0.195026       33.000000    -2.664919       35.375000   \n",
      "50%    3705.000000    -0.080830       36.500000    -2.236342       39.687500   \n",
      "75%    5557.000000     0.095959       37.062500    -1.778334       40.125000   \n",
      "max    7409.000000     6.806938       37.250000     1.083596       40.500000   \n",
      "\n",
      "        Current_J2  Temperature_J2   Current_J3  Temperature_J3   Current_J4  \\\n",
      "count  7355.000000     7355.000000  7355.000000     7355.000000  7355.000000   \n",
      "mean     -1.199381       38.064064    -0.605312       40.936999    -0.022968   \n",
      "std       0.609984        3.311948     0.514937        3.182399     0.630789   \n",
      "min      -4.171966       29.375000    -3.333102       32.125000    -4.738406   \n",
      "25%      -1.552803       35.750000    -0.830933       38.937500    -0.125809   \n",
      "50%      -1.077137       40.187500    -0.571190       43.062500    -0.012325   \n",
      "75%      -0.838721       40.437500    -0.388398       43.125000     0.086098   \n",
      "max       2.464940       40.937500     2.270268       43.437500     4.089389   \n",
      "\n",
      "       ...  Temperature_J5     Speed_J0     Speed_J1     Speed_J2  \\\n",
      "count  ...     7355.000000  7355.000000  7355.000000  7355.000000   \n",
      "mean   ...       41.891094     0.001671     0.000061     0.003791   \n",
      "std    ...        3.680003     0.148826     0.049370     0.729422   \n",
      "min    ...       32.000000    -0.656331    -0.330833    -2.733091   \n",
      "25%    ...       39.500000    -0.000483    -0.000659    -0.004100   \n",
      "50%    ...       44.375000     0.000000     0.000000     0.000000   \n",
      "75%    ...       44.500000     0.002115     0.000540     0.000205   \n",
      "max    ...       44.937500     0.791929     0.615526     2.679848   \n",
      "\n",
      "          Speed_J3     Speed_J4     Speed_J5  Tool_current       cycle   \\\n",
      "count  7355.000000  7355.000000  7355.000000   7355.000000  7409.000000   \n",
      "mean     -0.004610    -0.000810     0.002880      0.109527   141.113241   \n",
      "std       0.359999     0.038436     0.313953      0.078832    80.542340   \n",
      "min      -1.271460    -0.226233    -1.629721      0.020180     1.000000   \n",
      "25%      -0.005365    -0.000120    -0.000803      0.082387    68.000000   \n",
      "50%       0.000000     0.000000     0.000000      0.085192   154.000000   \n",
      "75%       0.009912     0.000066     0.012924      0.089518   218.000000   \n",
      "max       1.363093     0.193914     1.378015      0.602054   264.000000   \n",
      "\n",
      "       Robot_ProtectiveStop  \n",
      "count           7355.000000  \n",
      "mean               0.037797  \n",
      "std                0.190719  \n",
      "min                0.000000  \n",
      "25%                0.000000  \n",
      "50%                0.000000  \n",
      "75%                0.000000  \n",
      "max                1.000000  \n",
      "\n",
      "[8 rows x 22 columns]\n"
     ]
    }
   ],
   "source": [
    "print(df.describe())"
   ]
  }
 ],
 "metadata": {
  "kernelspec": {
   "display_name": "deep_hedging",
   "language": "python",
   "name": "python3"
  },
  "language_info": {
   "codemirror_mode": {
    "name": "ipython",
    "version": 3
   },
   "file_extension": ".py",
   "mimetype": "text/x-python",
   "name": "python",
   "nbconvert_exporter": "python",
   "pygments_lexer": "ipython3",
   "version": "3.9.21"
  }
 },
 "nbformat": 4,
 "nbformat_minor": 2
}
